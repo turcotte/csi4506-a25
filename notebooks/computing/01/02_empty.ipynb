{
  "cells": [
    {
      "cell_type": "markdown",
      "metadata": {},
      "source": [
        "# Jupyter Notebook - Vide\n",
        "\n",
        "CSI4506 Introduction à l’intelligence artificielle\n",
        "\n",
        "Marcel Turcotte (École de sience informatique et de génie électrique,\n",
        "Université d’Ottawa)  \n",
        "2025-09-05"
      ],
      "id": "d8fe6839-2b8b-444f-96b9-eedc0bb30277"
    }
  ],
  "nbformat": 4,
  "nbformat_minor": 5,
  "metadata": {
    "kernelspec": {
      "display_name": "Python 3",
      "language": "python",
      "name": "python3"
    }
  }
}