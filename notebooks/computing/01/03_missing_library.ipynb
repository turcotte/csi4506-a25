{
  "cells": [
    {
      "cell_type": "markdown",
      "metadata": {},
      "source": [
        "# Jupyter Notebook - Librairie Manquante\n",
        "\n",
        "CSI4506 Introduction à l’intelligence artificielle\n",
        "\n",
        "Marcel Turcotte (School of Electrical Engineering and Computer Science,\n",
        "University of Ottawa)  \n",
        "2025-09-05\n",
        "\n",
        "# Objectif d’apprentissage\n",
        "\n",
        "-   **Illustrer** le processus d’identification et de résolution des\n",
        "    problèmes de bibliothèque manquante dans Google Colab.\n",
        "\n",
        "> **Important**\n",
        ">\n",
        "> Cet exemple est destiné à être exécuté dans [Google\n",
        "> Colab](https://colab.research.google.com).\n",
        "\n",
        "# Import\n",
        "\n",
        "Dans ce cahier, nous utilisons la bibliothèque\n",
        "[langdetect](https://github.com/Mimino666/langdetect) pour identifier\n",
        "avec précision la langue des échantillons de texte donnés.\n",
        "\n",
        "Tout d’abord, importons `langdetect`."
      ],
      "id": "11ce51e2-f5f4-4352-930b-4ea8374bf2ca"
    },
    {
      "cell_type": "code",
      "execution_count": 1,
      "metadata": {},
      "outputs": [],
      "source": [
        "from langdetect import detect"
      ],
      "id": "f00f37f8"
    },
    {
      "cell_type": "markdown",
      "metadata": {},
      "source": [
        "L’exécution de la cellule de code ci-dessus entraînera une erreur, car\n",
        "la bibliothèque `langdetect` n’est pas installée par défaut dans Google\n",
        "Colab.\n",
        "\n",
        "    ---------------------------------------------------------------------------\n",
        "    ModuleNotFoundError                       Traceback (most recent call last)\n",
        "    /tmp/ipython-input-193950075.py in <cell line: 0>()\n",
        "    ----> 1 from langdetect import detect\n",
        "\n",
        "    ModuleNotFoundError: No module named 'langdetect'\n",
        "\n",
        "    ---------------------------------------------------------------------------\n",
        "    NOTE: Si votre importation échoue en raison d'un package manquant, vous pouvez\n",
        "    installer manuellement les dépendances en utilisant soit !pip soit !apt.\n",
        "\n",
        "    Pour voir des exemples d'installation de certaines dépendances courantes, cliquez sur le\n",
        "    bouton \"Open Examples\" ci-dessous.\n",
        "    ---------------------------------------------------------------------------\n",
        "\n",
        "Ce problème peut être résolu en ajoutant la ligne de code suivante avant\n",
        "la première instruction `import`. Essayez-le !\n",
        "\n",
        "``` bash\n",
        "! pip install langdetect\n",
        "```\n",
        "\n",
        "Une fois ce problème résolu, nous pouvons appeler `detect`. Essayez-le !"
      ],
      "id": "17bbdb9b-4e00-4d25-8d47-0bc9631b2d11"
    },
    {
      "cell_type": "code",
      "execution_count": 2,
      "metadata": {},
      "outputs": [],
      "source": [
        "detect(\"Bonjour tout le monde!\")"
      ],
      "id": "4ce503f1"
    },
    {
      "cell_type": "markdown",
      "metadata": {},
      "source": [
        "# Meilleure Pratique\n",
        "\n",
        "Vous auriez pu prédire ce scénario. Si la bibliothèque `langdetect`\n",
        "n’est pas installée, capturez l’exception résultante et procédez à\n",
        "l’installation de la bibliothèque.\n",
        "\n",
        "``` python\n",
        "try:\n",
        "    from langdetect import detect\n",
        "except ImportError:\n",
        "    print(\"langdetect non trouvé, installation...\")\n",
        "    import sys\n",
        "    ! pip install langdetect\n",
        "    from langdetect import detect  # réessayer après l'installation\n",
        "```\n",
        "\n",
        "# Exploration\n",
        "\n",
        "`!` permet d’exécuter des [commandes shell Unix/Linux dans\n",
        "IPython](https://www.python4data.science/en/latest/workspace/ipython/shell.html).\n",
        "Créez une cellule de code et essayez ces commandes.\n",
        "\n",
        "-   `! uname -a` affiche des informations sur le système.\n",
        "-   `! ls` affiche le contenu du répertoire courant.\n",
        "-   `! ls /` affiche le contenu du répertoire racine.\n",
        "-   `! pwd` renvoie le nom du répertoire de travail.\n",
        "\n",
        "Ces commandes sont utiles pour déboguer le code, car elles fournissent\n",
        "des informations sur l’environnement informatique, telles que la version\n",
        "du système d’exploitation et le contenu du répertoire local."
      ],
      "id": "2a8de6e4-5406-46b4-8bec-214a0f2d3fb1"
    }
  ],
  "nbformat": 4,
  "nbformat_minor": 5,
  "metadata": {
    "kernelspec": {
      "name": "python3",
      "display_name": "Python 3 (ipykernel)",
      "language": "python",
      "path": "/Users/turcotte/opt/micromamba/envs/ai/share/jupyter/kernels/python3"
    }
  }
}