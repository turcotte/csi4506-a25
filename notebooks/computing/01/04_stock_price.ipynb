{
  "cells": [
    {
      "cell_type": "markdown",
      "metadata": {},
      "source": [
        "# Jupyter Notebook - Capitalisation boursière\n",
        "\n",
        "CSI4506 Introduction à l’intelligence artificielle\n",
        "\n",
        "Marcel Turcotte (École de science informatique et de génie électrique,\n",
        "University of Ottawa)  \n",
        "2025-09-05\n",
        "\n",
        "# Capitalisation boursière de NVIDIA et Intel (2012 - 2024)\n",
        "\n",
        "La bibliothèque Python `yfinance` est souvent utilisée pour télécharger\n",
        "des données du marché boursier."
      ],
      "id": "be6feebd-8c69-4153-9db2-d36c5aca96e6"
    },
    {
      "cell_type": "code",
      "execution_count": 1,
      "metadata": {},
      "outputs": [],
      "source": [
        "import yfinance as yf\n",
        "import matplotlib.pyplot as plt"
      ],
      "id": "c47e10c4"
    },
    {
      "cell_type": "markdown",
      "metadata": {},
      "source": [
        "Définissons les actions qui nous intéressent pour cette analyse."
      ],
      "id": "5f5cbb67-d7bd-471d-89ec-9daf5234ee19"
    },
    {
      "cell_type": "code",
      "execution_count": 2,
      "metadata": {},
      "outputs": [],
      "source": [
        "# Définir les tickers pour NVIDIA et Intel\n",
        "tickers = ['NVDA', 'INTC']"
      ],
      "id": "8a41ff38"
    },
    {
      "cell_type": "markdown",
      "metadata": {},
      "source": [
        "Téléchargeons maintenant les données sur notre instance Colab ou notre\n",
        "ordinateur local."
      ],
      "id": "1da927b1-6e4e-43ce-b9e0-1d78fb730e3c"
    },
    {
      "cell_type": "code",
      "execution_count": 3,
      "metadata": {},
      "outputs": [],
      "source": [
        "# Télécharger les données historiques du marché depuis 2012\n",
        "data = yf.download(tickers, start='2012-01-01', end='2024-01-01', group_by='ticker')"
      ],
      "id": "bb473219"
    },
    {
      "cell_type": "markdown",
      "metadata": {},
      "source": [
        "En se concentrant sur les prix de clôture."
      ],
      "id": "1bed3883-a8f8-45c0-ad91-dc22dca36949"
    },
    {
      "cell_type": "code",
      "execution_count": 4,
      "metadata": {},
      "outputs": [],
      "source": [
        "# Extraire les prix de clôture ajustés\n",
        "nvda_data = data['NVDA']['Close']\n",
        "intc_data = data['INTC']['Close']"
      ],
      "id": "8affbc65"
    },
    {
      "cell_type": "markdown",
      "metadata": {},
      "source": [
        "Dessinons."
      ],
      "id": "3800e7b8-262a-4816-9dc3-53b8b5532ba3"
    },
    {
      "cell_type": "code",
      "execution_count": 5,
      "metadata": {},
      "outputs": [],
      "source": [
        "# Tracer les données des prix des actions\n",
        "plt.figure(figsize=(12, 6))\n",
        "plt.plot(nvda_data.index, nvda_data, label='NVIDIA')\n",
        "plt.plot(intc_data.index, intc_data, label='Intel')\n",
        "plt.title('Prix des actions de NVIDIA et Intel (2012 - 2024)')\n",
        "plt.xlabel('Date')\n",
        "plt.ylabel('Prix des actions (USD)')\n",
        "plt.legend()\n",
        "plt.grid(True)\n",
        "plt.show()"
      ],
      "id": "8bb4ee2e"
    },
    {
      "cell_type": "markdown",
      "metadata": {},
      "source": [
        "Calculons maintenant la capitalisation boursière."
      ],
      "id": "de566fd1-296e-42cc-bf32-5debd4adec58"
    },
    {
      "cell_type": "code",
      "execution_count": 6,
      "metadata": {},
      "outputs": [],
      "source": [
        "# Récupérer le nombre d'actions en circulation (cela donne la valeur la plus récente)\n",
        "nvda_shares = yf.Ticker('NVDA').info['sharesOutstanding']\n",
        "intc_shares = yf.Ticker('INTC').info['sharesOutstanding']\n",
        "\n",
        "# Calculer la capitalisation boursière (Close ajusté * actions en circulation)\n",
        "nvda_market_cap = data['NVDA']['Close'] * nvda_shares\n",
        "intc_market_cap = data['INTC']['Close'] * intc_shares"
      ],
      "id": "2ea006f9"
    },
    {
      "cell_type": "markdown",
      "metadata": {},
      "source": [
        "Bien que les prix des actions de NVIDIA et Intel soient comparables, la\n",
        "capitalisation boursière de NVIDIA a connu une augmentation\n",
        "significative depuis 2020, contrairement à la capitalisation boursière\n",
        "plus stable d’Intel."
      ],
      "id": "ce5739bf-0c68-446c-a545-36dd776e4f40"
    },
    {
      "cell_type": "code",
      "execution_count": 7,
      "metadata": {},
      "outputs": [],
      "source": [
        "# Tracer les données de la capitalisation boursière\n",
        "plt.figure(figsize=(12, 6))\n",
        "plt.plot(nvda_market_cap.index, nvda_market_cap, label='NVIDIA')\n",
        "plt.plot(intc_market_cap.index, intc_market_cap, label='Intel')\n",
        "plt.title('Capitalisation boursière de NVIDIA et Intel (2012 - 2024)')\n",
        "plt.xlabel('Date')\n",
        "plt.ylabel('Capitalisation boursière (USD)')\n",
        "plt.legend()\n",
        "plt.grid(True)\n",
        "plt.show()"
      ],
      "id": "7e8a6323"
    }
  ],
  "nbformat": 4,
  "nbformat_minor": 5,
  "metadata": {
    "kernelspec": {
      "name": "python3",
      "display_name": "Python 3 (ipykernel)",
      "language": "python",
      "path": "/Users/turcotte/opt/micromamba/envs/ai/share/jupyter/kernels/python3"
    },
    "language_info": {
      "name": "python",
      "codemirror_mode": {
        "name": "ipython",
        "version": "3"
      },
      "file_extension": ".py",
      "mimetype": "text/x-python",
      "nbconvert_exporter": "python",
      "pygments_lexer": "ipython3",
      "version": "3.10.18"
    }
  }
}