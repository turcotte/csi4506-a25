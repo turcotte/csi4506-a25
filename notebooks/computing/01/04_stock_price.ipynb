{
  "cells": [
    {
      "cell_type": "markdown",
      "metadata": {},
      "source": [
        "# Jupyter Notebook - Capitalisation boursière\n",
        "\n",
        "CSI4506 Introduction à l’intelligence artificielle\n",
        "\n",
        "Marcel Turcotte (École de science informatique et de génie électrique,\n",
        "University of Ottawa)  \n",
        "2025-09-05\n",
        "\n",
        "# Capitalisation boursière de NVIDIA et Intel (2012 - 2024)\n",
        "\n",
        "La bibliothèque Python `yfinance` est souvent utilisée pour télécharger\n",
        "des données du marché boursier."
      ],
      "id": "18543085-8709-4084-8ffd-92d18817575e"
    },
    {
      "cell_type": "code",
      "execution_count": 1,
      "metadata": {},
      "outputs": [],
      "source": [
        "import yfinance as yf\n",
        "import matplotlib.pyplot as plt"
      ],
      "id": "53dd29ac"
    },
    {
      "cell_type": "markdown",
      "metadata": {},
      "source": [
        "Définissons les actions qui nous intéressent pour cette analyse."
      ],
      "id": "73e0808b-19f1-4c60-a2d4-19d97af7faba"
    },
    {
      "cell_type": "code",
      "execution_count": 2,
      "metadata": {},
      "outputs": [],
      "source": [
        "# Définir les tickers pour NVIDIA et Intel\n",
        "tickers = ['NVDA', 'INTC']"
      ],
      "id": "394299fe"
    },
    {
      "cell_type": "markdown",
      "metadata": {},
      "source": [
        "Téléchargeons maintenant les données sur notre instance Colab ou notre\n",
        "ordinateur local."
      ],
      "id": "95997391-32f0-40ad-9a29-40178cf4703d"
    },
    {
      "cell_type": "code",
      "execution_count": 3,
      "metadata": {},
      "outputs": [],
      "source": [
        "# Télécharger les données historiques du marché depuis 2012\n",
        "data = yf.download(tickers, start='2012-01-01', end='2024-01-01', group_by='ticker')"
      ],
      "id": "939adb74"
    },
    {
      "cell_type": "markdown",
      "metadata": {},
      "source": [
        "En se concentrant sur les prix de clôture."
      ],
      "id": "3a2c3430-1563-47e0-9d51-9d83587a466a"
    },
    {
      "cell_type": "code",
      "execution_count": 4,
      "metadata": {},
      "outputs": [],
      "source": [
        "# Extraire les prix de clôture ajustés\n",
        "nvda_data = data['NVDA']['Close']\n",
        "intc_data = data['INTC']['Close']"
      ],
      "id": "3add9de6"
    },
    {
      "cell_type": "markdown",
      "metadata": {},
      "source": [
        "Dessinons."
      ],
      "id": "23cb651c-b165-45db-9198-4431929f3472"
    },
    {
      "cell_type": "code",
      "execution_count": 5,
      "metadata": {},
      "outputs": [],
      "source": [
        "# Tracer les données des prix des actions\n",
        "plt.figure(figsize=(12, 6))\n",
        "plt.plot(nvda_data.index, nvda_data, label='NVIDIA')\n",
        "plt.plot(intc_data.index, intc_data, label='Intel')\n",
        "plt.title('Prix des actions de NVIDIA et Intel (2012 - 2024)')\n",
        "plt.xlabel('Date')\n",
        "plt.ylabel('Prix des actions (USD)')\n",
        "plt.legend()\n",
        "plt.grid(True)\n",
        "plt.show()"
      ],
      "id": "c083c62c"
    },
    {
      "cell_type": "markdown",
      "metadata": {},
      "source": [
        "Calculons maintenant la capitalisation boursière."
      ],
      "id": "56cf2b38-c1f2-4e09-893b-4ef59df70362"
    },
    {
      "cell_type": "code",
      "execution_count": 6,
      "metadata": {},
      "outputs": [],
      "source": [
        "# Récupérer le nombre d'actions en circulation (cela donne la valeur la plus récente)\n",
        "nvda_shares = yf.Ticker('NVDA').info['sharesOutstanding']\n",
        "intc_shares = yf.Ticker('INTC').info['sharesOutstanding']\n",
        "\n",
        "# Calculer la capitalisation boursière (Close ajusté * actions en circulation)\n",
        "nvda_market_cap = data['NVDA']['Adj Close'] * nvda_shares\n",
        "intc_market_cap = data['INTC']['Adj Close'] * intc_shares"
      ],
      "id": "23e0ec5a"
    },
    {
      "cell_type": "markdown",
      "metadata": {},
      "source": [
        "Bien que les prix des actions de NVIDIA et Intel soient comparables, la\n",
        "capitalisation boursière de NVIDIA a connu une augmentation\n",
        "significative depuis 2020, contrairement à la capitalisation boursière\n",
        "plus stable d’Intel."
      ],
      "id": "fab2d1be-756e-4989-be6d-97eb266ab719"
    },
    {
      "cell_type": "code",
      "execution_count": 7,
      "metadata": {},
      "outputs": [],
      "source": [
        "# Tracer les données de la capitalisation boursière\n",
        "plt.figure(figsize=(12, 6))\n",
        "plt.plot(nvda_market_cap.index, nvda_market_cap, label='NVIDIA')\n",
        "plt.plot(intc_market_cap.index, intc_market_cap, label='Intel')\n",
        "plt.title('Capitalisation boursière de NVIDIA et Intel (2012 - 2024)')\n",
        "plt.xlabel('Date')\n",
        "plt.ylabel('Capitalisation boursière (USD)')\n",
        "plt.legend()\n",
        "plt.grid(True)\n",
        "plt.show()"
      ],
      "id": "b1d36096"
    }
  ],
  "nbformat": 4,
  "nbformat_minor": 5,
  "metadata": {
    "kernelspec": {
      "name": "python3",
      "display_name": "Python 3 (ipykernel)",
      "language": "python",
      "path": "/Users/turcotte/opt/micromamba/envs/ai/share/jupyter/kernels/python3"
    }
  }
}